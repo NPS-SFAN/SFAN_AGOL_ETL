{
 "cells": [
  {
   "cell_type": "code",
   "execution_count": 2,
   "metadata": {},
   "outputs": [],
   "source": [
    "import pandas as pd"
   ]
  },
  {
   "cell_type": "code",
   "execution_count": 1,
   "metadata": {},
   "outputs": [],
   "source": [
    "inFile = r'C:\\Users\\KSherrill\\OneDrive - DOI\\SFAN\\VitalSigns\\SnowyPlovers_PORE\\SNPLOVER\\SNPL_IM\\Data\\ETL\\2024\\SFAN_SNPLPORE_Survey2024v1_0.csv'"
   ]
  },
  {
   "cell_type": "code",
   "execution_count": 3,
   "metadata": {},
   "outputs": [],
   "source": [
    "inDF = pd.read_csv(inFile)"
   ]
  },
  {
   "cell_type": "code",
   "execution_count": 5,
   "metadata": {},
   "outputs": [
    {
     "data": {
      "text/plain": [
       "ObjectID                                  int64\n",
       "GlobalID                                 object\n",
       "SurveyName                               object\n",
       "SurveyDate                               object\n",
       "DateSurveyCheck                          object\n",
       "DateSurveyStr                             int64\n",
       "Time Start Survey                        object\n",
       "TimeStartSurveyCheck                     object\n",
       "Time End Survey                          object\n",
       "TimeEndCheck                             object\n",
       "Define Observer(s)                       object\n",
       "Specify other.                           object\n",
       "ObserversCheck                           object\n",
       "Survey Location                          object\n",
       "Specify other..1                        float64\n",
       "SurveyLocationCheck                      object\n",
       "Collection Device                        object\n",
       "Specify other..2                         object\n",
       "CollectionDeviceCheck                    object\n",
       "Survey Note                              object\n",
       "SurveyStartOnOpen                        object\n",
       "SurveyEndOnClose                         object\n",
       "Confirm Survey Status                    object\n",
       "Verify All Data                          object\n",
       "Data Quality Verification Statement:     object\n",
       "The survey is complete for:              object\n",
       "CreationDate                             object\n",
       "Creator                                  object\n",
       "EditDate                                 object\n",
       "Editor                                   object\n",
       "LE Violation                             object\n",
       "LawEnforcementViolationCheck             object\n",
       "LE Violation Notes                       object\n",
       "Incomplete Survey                        object\n",
       "IncompleteSurveyCheck                    object\n",
       "Predator Stop Time (min)                float64\n",
       "PredatorStopCheck                        object\n",
       "x                                       float64\n",
       "y                                       float64\n",
       "dtype: object"
      ]
     },
     "execution_count": 5,
     "metadata": {},
     "output_type": "execute_result"
    }
   ],
   "source": [
    "inDF.dtypes"
   ]
  },
  {
   "cell_type": "code",
   "execution_count": 6,
   "metadata": {},
   "outputs": [],
   "source": [
    "outDFSubset = inDF[['GlobalID', 'Survey Location', \"DateSurveyStr\", \"Time Start Survey\", \"Time End Survey\", \"Creator\"]].rename(columns={'GlobalID':'Event_ID', 'Time Start Survey':'Start_Time', 'Time End Survey': 'End_Time', 'Creator': 'Created_By'})"
   ]
  },
  {
   "cell_type": "code",
   "execution_count": 7,
   "metadata": {},
   "outputs": [
    {
     "data": {
      "text/html": [
       "<div>\n",
       "<style scoped>\n",
       "    .dataframe tbody tr th:only-of-type {\n",
       "        vertical-align: middle;\n",
       "    }\n",
       "\n",
       "    .dataframe tbody tr th {\n",
       "        vertical-align: top;\n",
       "    }\n",
       "\n",
       "    .dataframe thead th {\n",
       "        text-align: right;\n",
       "    }\n",
       "</style>\n",
       "<table border=\"1\" class=\"dataframe\">\n",
       "  <thead>\n",
       "    <tr style=\"text-align: right;\">\n",
       "      <th></th>\n",
       "      <th>GlobalID</th>\n",
       "      <th>Survey Location</th>\n",
       "    </tr>\n",
       "  </thead>\n",
       "  <tbody>\n",
       "    <tr>\n",
       "      <th>0</th>\n",
       "      <td>14be5beb-2209-4366-9bc5-8dbbc070367e</td>\n",
       "      <td>Kehoe Beach</td>\n",
       "    </tr>\n",
       "    <tr>\n",
       "      <th>1</th>\n",
       "      <td>b8e08468-2616-4708-8d90-39778779dc92</td>\n",
       "      <td>Kehoe Beach</td>\n",
       "    </tr>\n",
       "    <tr>\n",
       "      <th>2</th>\n",
       "      <td>03ee3334-76ed-4b58-b8f4-5de43cabf7d6</td>\n",
       "      <td>2011 Dune Restoration Area</td>\n",
       "    </tr>\n",
       "    <tr>\n",
       "      <th>3</th>\n",
       "      <td>f44e3e4a-c151-492b-981c-aac5bc52c0c5</td>\n",
       "      <td>North Beach - Abbott's</td>\n",
       "    </tr>\n",
       "    <tr>\n",
       "      <th>4</th>\n",
       "      <td>f56ec479-8a55-4a7b-aa6f-7e0a341db22b</td>\n",
       "      <td>North Beach - Abbott's</td>\n",
       "    </tr>\n",
       "    <tr>\n",
       "      <th>...</th>\n",
       "      <td>...</td>\n",
       "      <td>...</td>\n",
       "    </tr>\n",
       "    <tr>\n",
       "      <th>219</th>\n",
       "      <td>2d8ecc99-fea0-415f-aa71-c92b2025c6fb</td>\n",
       "      <td>North Beach - Abbott's</td>\n",
       "    </tr>\n",
       "    <tr>\n",
       "      <th>220</th>\n",
       "      <td>9fd3a559-480c-4839-bf9d-9c069389a2e8</td>\n",
       "      <td>Kehoe Beach</td>\n",
       "    </tr>\n",
       "    <tr>\n",
       "      <th>221</th>\n",
       "      <td>b628232e-beda-4688-9f8a-1c5a6b935642</td>\n",
       "      <td>North Beach - Abbott's</td>\n",
       "    </tr>\n",
       "    <tr>\n",
       "      <th>222</th>\n",
       "      <td>b35209d4-eacb-47d9-afb2-3634d37428cd</td>\n",
       "      <td>North Beach - Abbott's</td>\n",
       "    </tr>\n",
       "    <tr>\n",
       "      <th>223</th>\n",
       "      <td>2894883d-86c9-4b89-a651-41460968a527</td>\n",
       "      <td>North Beach - Abbott's</td>\n",
       "    </tr>\n",
       "  </tbody>\n",
       "</table>\n",
       "<p>224 rows × 2 columns</p>\n",
       "</div>"
      ],
      "text/plain": [
       "                                 GlobalID             Survey Location\n",
       "0    14be5beb-2209-4366-9bc5-8dbbc070367e                 Kehoe Beach\n",
       "1    b8e08468-2616-4708-8d90-39778779dc92                 Kehoe Beach\n",
       "2    03ee3334-76ed-4b58-b8f4-5de43cabf7d6  2011 Dune Restoration Area\n",
       "3    f44e3e4a-c151-492b-981c-aac5bc52c0c5      North Beach - Abbott's\n",
       "4    f56ec479-8a55-4a7b-aa6f-7e0a341db22b      North Beach - Abbott's\n",
       "..                                    ...                         ...\n",
       "219  2d8ecc99-fea0-415f-aa71-c92b2025c6fb      North Beach - Abbott's\n",
       "220  9fd3a559-480c-4839-bf9d-9c069389a2e8                 Kehoe Beach\n",
       "221  b628232e-beda-4688-9f8a-1c5a6b935642      North Beach - Abbott's\n",
       "222  b35209d4-eacb-47d9-afb2-3634d37428cd      North Beach - Abbott's\n",
       "223  2894883d-86c9-4b89-a651-41460968a527      North Beach - Abbott's\n",
       "\n",
       "[224 rows x 2 columns]"
      ]
     },
     "execution_count": 7,
     "metadata": {},
     "output_type": "execute_result"
    }
   ],
   "source": [
    "outDFSubset"
   ]
  },
  {
   "cell_type": "code",
   "execution_count": null,
   "metadata": {},
   "outputs": [],
   "source": [
    "#Get Location_ID from lookup \n",
    "#Define Field 'Loocation_ID'"
   ]
  },
  {
   "cell_type": "code",
   "execution_count": 8,
   "metadata": {},
   "outputs": [],
   "source": [
    "#Define Field 'Protocol_Name' = 'PORE SNPL'\n",
    "#Define Field Create_Date\n",
    "#Define Filed Created_By - via etlInstance.inUser\n",
    "#Define Field DataProcessingLevel = 1\n",
    "#Define DataProcessingLEvelDate = Now()\n",
    "#Define DataProcessingLevelUser - via etlInstance.inUser \n"
   ]
  },
  {
   "cell_type": "code",
   "execution_count": 10,
   "metadata": {},
   "outputs": [],
   "source": [
    "#Additional Attributes to Define\n",
    "#Define Observers - to table xref_EventContacts - harvest multple Items - make a SFAN_AGOL_ETL.py method\n",
    "#Define Device - currently no place holder in DB Schema\n",
    "#Define Survey Notes - currently no place holder in DB Schema"
   ]
  },
  {
   "cell_type": "code",
   "execution_count": 13,
   "metadata": {},
   "outputs": [],
   "source": [
    "# Misc Fields to account for:\n",
    "# LE Violation\n",
    "# LE Violation Notes\n",
    "# PRedator Stop Time (min)\n",
    "# FIeld X\n",
    "# Field y"
   ]
  },
  {
   "cell_type": "code",
   "execution_count": null,
   "metadata": {},
   "outputs": [],
   "source": []
  }
 ],
 "metadata": {
  "kernelspec": {
   "display_name": "SFAN_AGOLPortal_ETL",
   "language": "python",
   "name": "python3"
  },
  "language_info": {
   "codemirror_mode": {
    "name": "ipython",
    "version": 3
   },
   "file_extension": ".py",
   "mimetype": "text/x-python",
   "name": "python",
   "nbconvert_exporter": "python",
   "pygments_lexer": "ipython3",
   "version": "3.9.18"
  }
 },
 "nbformat": 4,
 "nbformat_minor": 2
}
